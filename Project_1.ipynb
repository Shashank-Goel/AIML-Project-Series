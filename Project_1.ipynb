{
  "cells": [
    {
      "cell_type": "markdown",
      "metadata": {
        "id": "view-in-github",
        "colab_type": "text"
      },
      "source": [
        "<a href=\"https://colab.research.google.com/github/Shashank-Goel/AIML-Project-Series/blob/main/Project_1.ipynb\" target=\"_parent\"><img src=\"https://colab.research.google.com/assets/colab-badge.svg\" alt=\"Open In Colab\"/></a>"
      ]
    },
    {
      "cell_type": "code",
      "execution_count": 2,
      "metadata": {
        "colab": {
          "base_uri": "https://localhost:8080/"
        },
        "id": "JLByuIFaq4fz",
        "outputId": "41d24a80-a77f-4221-e6b2-254bcce893e5"
      },
      "outputs": [
        {
          "output_type": "stream",
          "name": "stdout",
          "text": [
            "Hello! I'm your friendly chatbot assistant.\n",
            "Feel free to ask me anything or just say hi!\n",
            "You: hi\n",
            "Bot: Hello!\n",
            "You: what is you name\n",
            "Bot: I'm not sure how to respond to that.\n",
            "You: what's your name?\n",
            "Bot: I'm just a humble chatbot.\n",
            "You: how are you?\n",
            "Bot: I'm doing well, thank you!\n",
            "You: bye\n",
            "Bot: Farewell! Come back anytime.\n"
          ]
        }
      ],
      "source": [
        "import random\n",
        "\n",
        "# Responses to the greetings\n",
        "GREETING_RESPONSES = [\"Hello!\", \"Hi there!\", \"Hey!\", \"Greetings!\"]\n",
        "\n",
        "# Define responses to questions\n",
        "BASIC_QUESTION_RESPONSES = {\n",
        "    \"how are you\": [\"I'm doing well, thank you!\", \"Feeling good, thanks for asking!\"],\n",
        "    \"what's your name\": [\"I'm just a humble chatbot.\", \"I'm your friendly chatbot assistant!\"],\n",
        "    \"where are you from\": [\"I exist in the realm of cyberspace.\", \"I don't have a physical location.\"],\n",
        "    \"what do you do\": [\"I'm here to assist you with any questions you have!\", \"I provide information and support.\"]\n",
        "}\n",
        "\n",
        "# Define farewell messages\n",
        "FAREWELL_RESPONSES = [\"Goodbye! Have a great day!\", \"Farewell! Come back anytime.\", \"Until next time!\"]\n",
        "\n",
        "# Previous context storage\n",
        "previous_context = {}\n",
        "\n",
        "def respond_to_greeting():\n",
        "    return random.choice(GREETING_RESPONSES)\n",
        "\n",
        "def respond_to_basic_question(question):\n",
        "    if question.lower() in BASIC_QUESTION_RESPONSES:\n",
        "        return random.choice(BASIC_QUESTION_RESPONSES[question.lower()])\n",
        "    else:\n",
        "        return \"I'm not sure how to answer that question.\"\n",
        "\n",
        "def handle_user_input(user_input):\n",
        "    if \"bye\" in user_input:\n",
        "        print(\"Bot:\", random.choice(FAREWELL_RESPONSES))\n",
        "        return False\n",
        "    elif any(greeting in user_input for greeting in [\"hello\", \"hi\"]):\n",
        "        print(\"Bot:\", respond_to_greeting())\n",
        "    elif any(question in user_input for question in BASIC_QUESTION_RESPONSES.keys()):\n",
        "        for question in BASIC_QUESTION_RESPONSES.keys():\n",
        "            if question in user_input:\n",
        "                print(\"Bot:\", respond_to_basic_question(question))\n",
        "                break\n",
        "    else:\n",
        "        print(\"Bot: I'm not sure how to respond to that.\")\n",
        "    return True\n",
        "\n",
        "def chat():\n",
        "    print(\"Hello! I'm your friendly chatbot assistant.\")\n",
        "    print(\"Feel free to ask me anything or just say hi!\")\n",
        "    while True:\n",
        "        user_input = input(\"You: \")\n",
        "        if not handle_user_input(user_input):\n",
        "            break\n",
        "\n",
        "# Start the chatbot\n",
        "chat()\n"
      ]
    }
  ],
  "metadata": {
    "colab": {
      "provenance": [],
      "authorship_tag": "ABX9TyMMCJu4x+tJL9fAf8w99W+Y",
      "include_colab_link": true
    },
    "kernelspec": {
      "display_name": "Python 3",
      "name": "python3"
    },
    "language_info": {
      "name": "python"
    }
  },
  "nbformat": 4,
  "nbformat_minor": 0
}